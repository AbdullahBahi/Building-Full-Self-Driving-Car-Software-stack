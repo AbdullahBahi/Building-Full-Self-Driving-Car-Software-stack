{
 "cells": [
  {
   "cell_type": "markdown",
   "metadata": {},
   "source": [
    "# Hihg-Level mosion Planning\n",
    "In this notebook, We implement Dijkstra's search algorithm on a road network in Berkeley, California. then modify that algorithm using a distance heuristic to perform A* search. then get a chance to compare the shortest path to the mapping library's path to make sure the algorithm is implemented succesfully. \n",
    "\n",
    "**Objectives**\n",
    "* Implement Dijkstra's search algorithm on a road network graph.\n",
    "* Implement the A* search algorithm using a Euclidean heuristic on a road network graph. "
   ]
  },
  {
   "cell_type": "markdown",
   "metadata": {},
   "source": [
    "In order to test our algorithm using real map data, we will be relying on the [OSMNX library](https://osmnx.readthedocs.io/en/stable/) to generate Python graphs from Open Street Map (OSM) data. These graphs will be represented using the [NetworkX library](https://networkx.github.io/documentation/stable/)."
   ]
  },
  {
   "cell_type": "code",
   "execution_count": null,
   "metadata": {},
   "outputs": [],
   "source": [
    "import osmnx as ox\n",
    "import networkx as nx\n",
    "import queue\n",
    "import math\n",
    "import priority_dict"
   ]
  },
  {
   "cell_type": "markdown",
   "metadata": {},
   "source": [
    "First we display the shortest path between the two random nodes in Berkeley, California, using the built in function **networkx.shortest_path**. Our goal is to get the same output using the implementation of Dijkstra's and A* algorithms."
   ]
  },
  {
   "cell_type": "code",
   "execution_count": null,
   "metadata": {},
   "outputs": [],
   "source": [
    "map_graph = ox.graph_from_place('Berkeley, California', network_type='drive')\n",
    "origin = ox.get_nearest_node(map_graph, (37.8743, -122.277))\n",
    "destination = list(map_graph.nodes())[-1]\n",
    "\n",
    "shortest_path = nx.shortest_path(map_graph, origin, destination, weight='length')\n",
    "fig, ax = ox.plot_graph_route(map_graph, shortest_path)"
   ]
  },
  {
   "cell_type": "markdown",
   "metadata": {},
   "source": [
    "## Dijkstra's Search\n",
    "First, let's focus on Dijkstra's algorithm. below is the pseudocode.\n",
    "\n",
    "![Dijkstra's Pseudocode](dijkstra.png)\n",
    "\n",
    "the function implemented below is `dijkstras_search()`.\n",
    "\n",
    "To perform Dijkstra's search, we require a priority queue (or a min heap), which is defined as the `priority_dict` class. This class is accessed just as a standard dictionary is, except it orders the keys by their value. We can use the vertices as the keys to our priority queue, and their distance from the start as their value. For example, to set the distance of vertex `v` to the variable `dist`, we can do `open_queue[v] = dist`. To get the smallest value in the priority queue, we can use `priority_dict.pop_smallest()`. This returns a tuple of the vertex key and it's distance from the origin.\n",
    "\n",
    "The main input to the search is the `graph`, an OSMNX graph representation of the road network. The vertices are stored as keys, and as such the origin is given as input as `origin_key` and the goal is given as `goal_key`. To get the outgoing edges of a given vertex `u`, we can use `graph.out_edges([u], data=True)`. The return value of this is a list of tuples, each of which represent an outgoing edge. The second element of each tuple is the outgoing vertex at the other end of the edge. we can iterate over this list of tuples using:\n",
    "\n",
    "`for edge in graph.out_edges([u], data=True):`\n",
    "\n",
    "and can get the outgoing vertex of these edges by accessing the 2nd element of the tuple:\n",
    "\n",
    "`edge[1]`.\n",
    "\n",
    "To get the weight of this edge, you can access the data stored in the 3rd element of the tuple:\n",
    "\n",
    "`length = edge[2]['length']`.\n",
    "\n",
    "More details is available in the NetworkX documentation [here](https://networkx.github.io/documentation/networkx-2.3/reference/classes/generated/networkx.DiGraph.out_edges.html?highlight=out_edges#networkx.DiGraph.out_edges).\n",
    "\n",
    "our goal now is to find the shortest path in the graph from the origin to the goal using Dijkstra's search."
   ]
  },
  {
   "cell_type": "code",
   "execution_count": null,
   "metadata": {},
   "outputs": [],
   "source": [
    "# For a given graph, origin vertex key, and goal vertex key,\n",
    "# computes the shortest path in the graph from the origin vertex\n",
    "# to the goal vertex using Dijkstra's algorithm.\n",
    "# Returns the shortest path as a list of vertex keys.\n",
    "def dijkstras_search(origin_key, goal_key, graph):\n",
    "    \n",
    "    # The priority queue of open vertices we've reached.\n",
    "    # Keys are the vertex keys, vals are the distances.\n",
    "    open_queue = priority_dict.priority_dict({})\n",
    "    \n",
    "    # The dictionary of closed vertices we've processed.\n",
    "    closed_dict = {}\n",
    "    \n",
    "    # The dictionary of predecessors for each vertex.\n",
    "    predecessors = {}\n",
    "    \n",
    "    # Add the origin to the open queue.\n",
    "    open_queue[origin_key] = 0.0\n",
    "\n",
    "    # Iterate through the open queue, until we find the goal.\n",
    "    # Each time, perform a Dijkstra's update on the queue.\n",
    "    # TODO: Implement the Dijstra update loop.\n",
    "    goal_found = False\n",
    "    while (open_queue):\n",
    "        u, u_length = open_queue.pop_smallest()        \n",
    "        \n",
    "        # If u is the goal, we are done.\n",
    "        if u == goal_key:\n",
    "            goal_found = True\n",
    "            break\n",
    "        \n",
    "        for edge_dict in graph.out_edges([u], data=True):\n",
    "            # The second element of the return tuple gives us the\n",
    "            # outgoing neighbour vertex.\n",
    "            v = edge_dict[1]\n",
    "            \n",
    "            # If v has already been processed, there is no need to\n",
    "            # add it to the open queue.\n",
    "            if v in closed_dict:\n",
    "                continue\n",
    "            \n",
    "            # The third element of the return tuple contains the data.\n",
    "            uv_length = edge_dict[2]['length']\n",
    "            \n",
    "            if v not in open_queue:\n",
    "                open_queue[v] = u_length + uv_length\n",
    "                predecessors[v] = u\n",
    "            else:\n",
    "                v_length = open_queue[v]\n",
    "                if u_length + uv_length < v_length:\n",
    "                    open_queue[v] = u_length + uv_length\n",
    "                    predecessors[v] = u \n",
    "        \n",
    "        # Close u, since all of its neighbours have been added to the\n",
    "        # queue (if necessary).\n",
    "        closed_dict[u] = 1\n",
    "    \n",
    "    # If we get through entire priority queue without finding the goal,\n",
    "    # something is wrong.\n",
    "    if not goal_found:\n",
    "        raise ValueError(\"Goal not found in search.\")\n",
    "    \n",
    "    # Construct the path from the predecessors dictionary.\n",
    "    return get_path(origin_key, goal_key, predecessors)                "
   ]
  },
  {
   "cell_type": "markdown",
   "metadata": {},
   "source": [
    "below is a helper function `get_path()` that will assist in retrieving the path from the dictionary of predecessors once the goal is found."
   ]
  },
  {
   "cell_type": "code",
   "execution_count": null,
   "metadata": {},
   "outputs": [],
   "source": [
    "# This function follows the predecessor\n",
    "# backpointers and generates the equivalent path from the\n",
    "# origin as a list of vertex keys.\n",
    "def get_path(origin_key, goal_key, predecessors):\n",
    "    key = goal_key\n",
    "    path = [goal_key]\n",
    "    \n",
    "    while (key != origin_key):\n",
    "        key = predecessors[key]\n",
    "        path.insert(0, key)\n",
    "        \n",
    "    return path"
   ]
  },
  {
   "cell_type": "markdown",
   "metadata": {},
   "source": [
    "now that these two functions have been implemented, we check to see if our output matches that of the library function above. "
   ]
  },
  {
   "cell_type": "code",
   "execution_count": 1,
   "metadata": {},
   "outputs": [
    {
     "ename": "NameError",
     "evalue": "name 'dijkstras_search' is not defined",
     "output_type": "error",
     "traceback": [
      "\u001b[1;31m---------------------------------------------------------------------------\u001b[0m",
      "\u001b[1;31mNameError\u001b[0m                                 Traceback (most recent call last)",
      "\u001b[1;32m<ipython-input-1-304b46f6a4dc>\u001b[0m in \u001b[0;36m<module>\u001b[1;34m\u001b[0m\n\u001b[1;32m----> 1\u001b[1;33m \u001b[0mpath\u001b[0m \u001b[1;33m=\u001b[0m \u001b[0mdijkstras_search\u001b[0m\u001b[1;33m(\u001b[0m\u001b[0morigin\u001b[0m\u001b[1;33m,\u001b[0m \u001b[0mdestination\u001b[0m\u001b[1;33m,\u001b[0m \u001b[0mmap_graph\u001b[0m\u001b[1;33m)\u001b[0m\u001b[1;33m\u001b[0m\u001b[1;33m\u001b[0m\u001b[0m\n\u001b[0m\u001b[0;32m      2\u001b[0m \u001b[0mfig\u001b[0m\u001b[1;33m,\u001b[0m \u001b[0max\u001b[0m \u001b[1;33m=\u001b[0m \u001b[0mox\u001b[0m\u001b[1;33m.\u001b[0m\u001b[0mplot_graph_route\u001b[0m\u001b[1;33m(\u001b[0m\u001b[0mmap_graph\u001b[0m\u001b[1;33m,\u001b[0m \u001b[0mpath\u001b[0m\u001b[1;33m)\u001b[0m\u001b[1;33m\u001b[0m\u001b[1;33m\u001b[0m\u001b[0m\n",
      "\u001b[1;31mNameError\u001b[0m: name 'dijkstras_search' is not defined"
     ]
    }
   ],
   "source": [
    "path = dijkstras_search(origin, destination, map_graph)        \n",
    "fig, ax = ox.plot_graph_route(map_graph, path) "
   ]
  },
  {
   "cell_type": "markdown",
   "metadata": {},
   "source": [
    "## A* Search\n",
    "Next, we will use a distance heuristic to implement A* search for our map search problem. Since we are using real map data here, we will need to convert the data to a format which we can use for distance computation. Each data point has a latitude and longitude associated with it, which we then have to convert into (x, y, z) coordinates on the earth (which we will assume to be a sphere with radius 6371 km). We can then take the straight line distance between these two points as an approximation for the distance between them. Over small distances, this approximation is accurate. This is implemented in the `distance_heuristic()` function below."
   ]
  },
  {
   "cell_type": "code",
   "execution_count": null,
   "metadata": {},
   "outputs": [],
   "source": [
    "# Computes the Euclidean distance between two vertices.\n",
    "# Assume that the earth is a sphere with radius 6371 km.\n",
    "def distance_heuristic(state_key, goal_key, node_data):\n",
    "    # TODO Your code here. Note that this may be hard for the\n",
    "    # students to figure out on their own.\n",
    "    n1 = node_data[state_key]\n",
    "    n2 = node_data[goal_key]\n",
    "\n",
    "    # Get the longitude and latitude for each vertex.\n",
    "    long1 = n1['x']*math.pi/180.0\n",
    "    lat1 = n1['y']*math.pi/180.0\n",
    "    long2 = n2['x']*math.pi/180.0\n",
    "    lat2 = n2['y']*math.pi/180.0\n",
    "    \n",
    "    # Use a spherical approximation of the earth for\n",
    "    # estimating the distance between two points.\n",
    "    r = 6371000\n",
    "    x1 = r*math.cos(lat1)*math.cos(long1)\n",
    "    y1 = r*math.cos(lat1)*math.sin(long1)\n",
    "    z1 = r*math.sin(lat1)\n",
    "\n",
    "    x2 = r*math.cos(lat2)*math.cos(long2)\n",
    "    y2 = r*math.cos(lat2)*math.sin(long2)\n",
    "    z2 = r*math.sin(lat2)\n",
    "\n",
    "    d = ((x2-x1)**2 + (y2-y1)**2 + (z2-z1)**2)**0.5\n",
    "    \n",
    "    return d"
   ]
  },
  {
   "cell_type": "markdown",
   "metadata": {},
   "source": [
    "Now, we can use our distance heuristic to perform A* search on our map. below is the A* pseudocode.\n",
    "![A* Pseudocode](a_star.png)\n",
    "This function will be implemented in the `a_star_search()` function below. As with Dijkstra's search, we will make use of the `get_path()` helper function above. As before, we will find the shortest path from the origin to the goal in the graph, but this time using A* with the distance heuristic given above."
   ]
  },
  {
   "cell_type": "code",
   "execution_count": null,
   "metadata": {},
   "outputs": [],
   "source": [
    "# For a given graph, origin vertex key, and goal vertex key,\n",
    "# computes the shortest path in the graph from the origin vertex\n",
    "# to the goal vertex using A* search. \n",
    "# Returns the shortest path as a list of vertex keys.\n",
    "def a_star_search(origin_key, goal_key, graph):\n",
    "    # The priority queue of open vertices we've reached.\n",
    "    # Keys are the vertex keys, vals are the accumulated\n",
    "    # distances plus the heuristic estimates of the distance\n",
    "    # to go.\n",
    "    open_queue = priority_dict.priority_dict({})\n",
    "    \n",
    "    # The dictionary of closed vertices we've processed.\n",
    "    closed_dict = {}\n",
    "    \n",
    "    # The dictionary of predecessors for each vertex.\n",
    "    predecessors = {}\n",
    "    \n",
    "    # The dictionary that stores the best cost to reach each\n",
    "    # vertex found so far.\n",
    "    costs = {}\n",
    "    \n",
    "    # Get the spatial data for each vertex as a dictionary.\n",
    "    node_data = graph.nodes(True)\n",
    "    \n",
    "    # Add the origin to the open queue and the costs dictionary.\n",
    "    costs[origin_key] = 0.0\n",
    "    open_queue[origin_key] = distance_heuristic(origin_key, goal_key, node_data)\n",
    "\n",
    "    # Iterate through the open queue, until we find the goal.\n",
    "    # Each time, perform an A* update on the queue.\n",
    "    # TODO: Implement the A* update loop.\n",
    "    goal_found = False\n",
    "    while (open_queue):\n",
    "        u, u_heuristic = open_queue.pop_smallest()        \n",
    "        u_length = costs[u]\n",
    "        \n",
    "        # If u is the goal, we are done.\n",
    "        if u == goal_key:\n",
    "            goal_found = True\n",
    "            break\n",
    "        \n",
    "        for edge_dict in graph.out_edges([u], data=True):\n",
    "            # The second element of the return tuple gives us the\n",
    "            # outgoing neighbour vertex.\n",
    "            v = edge_dict[1]\n",
    "            \n",
    "            # If v has already been processed, there is no need to\n",
    "            # add it to the open queue.\n",
    "            if v in closed_dict:\n",
    "                continue\n",
    "            \n",
    "            # The third element of the return tuple contains the data.\n",
    "            uv_length = edge_dict[2]['length']\n",
    "            \n",
    "            if v not in open_queue:\n",
    "                costs[v] = u_length + uv_length\n",
    "                open_queue[v] = u_length + uv_length + distance_heuristic(v, goal_key, node_data)\n",
    "                predecessors[v] = u\n",
    "            else:\n",
    "                v_length = costs[v]\n",
    "                if u_length + uv_length < v_length:\n",
    "                    costs[v] = u_length + uv_length\n",
    "                    open_queue[v] = u_length + uv_length + distance_heuristic(v, goal_key, node_data)\n",
    "                    predecessors[v] = u \n",
    "        \n",
    "        # Close u, since all of its neighbours have been added to the\n",
    "        # queue (if necessary).\n",
    "        closed_dict[u] = 1\n",
    "    \n",
    "    # If we get through entire priority queue without finding the goal,\n",
    "    # something is wrong.\n",
    "    if not goal_found:\n",
    "        raise ValueError(\"Goal not found in search.\")\n",
    "    \n",
    "    # Construct the path from the predecessors dictionary.\n",
    "    return get_path(origin_key, goal_key, predecessors)   "
   ]
  },
  {
   "cell_type": "markdown",
   "metadata": {},
   "source": [
    "Now that this function has been implemented, we check to see if the output matches that of the library function at the start of the notebook."
   ]
  },
  {
   "cell_type": "code",
   "execution_count": null,
   "metadata": {},
   "outputs": [],
   "source": [
    "path = a_star_search(origin, destination, map_graph)        \n",
    "fig, ax = ox.plot_graph_route(map_graph, path) "
   ]
  },
  {
   "cell_type": "code",
   "execution_count": null,
   "metadata": {},
   "outputs": [],
   "source": []
  }
 ],
 "metadata": {
  "kernelspec": {
   "display_name": "Python 3",
   "language": "python",
   "name": "python3"
  },
  "language_info": {
   "codemirror_mode": {
    "name": "ipython",
    "version": 3
   },
   "file_extension": ".py",
   "mimetype": "text/x-python",
   "name": "python",
   "nbconvert_exporter": "python",
   "pygments_lexer": "ipython3",
   "version": "3.7.1"
  }
 },
 "nbformat": 4,
 "nbformat_minor": 2
}
